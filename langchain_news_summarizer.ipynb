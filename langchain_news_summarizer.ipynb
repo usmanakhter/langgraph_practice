{
  "nbformat": 4,
  "nbformat_minor": 0,
  "metadata": {
    "colab": {
      "provenance": [],
      "authorship_tag": "ABX9TyNAc/EzpfYDt9P+VOuGnN0Q",
      "include_colab_link": true
    },
    "kernelspec": {
      "name": "python3",
      "display_name": "Python 3"
    },
    "language_info": {
      "name": "python"
    }
  },
  "cells": [
    {
      "cell_type": "markdown",
      "metadata": {
        "id": "view-in-github",
        "colab_type": "text"
      },
      "source": [
        "<a href=\"https://colab.research.google.com/github/usmanakhter/langgraph_practice/blob/main/langchain_news_summarizer.ipynb\" target=\"_parent\"><img src=\"https://colab.research.google.com/assets/colab-badge.svg\" alt=\"Open In Colab\"/></a>"
      ]
    },
    {
      "cell_type": "code",
      "execution_count": null,
      "metadata": {
        "id": "Mx1LATrEwuzo"
      },
      "outputs": [],
      "source": [
        "%pip install -qU langchain-openai\n",
        "%pip install -qU langchain-community\n",
        "%pip install -q newspaper3k python-dotenv\n",
        "!pip install -q lxml_html_clean\n",
        "\n"
      ]
    },
    {
      "cell_type": "code",
      "source": [
        "# prompt: mount my google drive\n",
        "\n",
        "from google.colab import drive\n",
        "drive.mount('/content/drive')"
      ],
      "metadata": {
        "colab": {
          "base_uri": "https://localhost:8080/"
        },
        "id": "1KOgtm7qkTlb",
        "outputId": "112b49dd-5379-4830-c496-bc8b0b96ac7d"
      },
      "execution_count": null,
      "outputs": [
        {
          "output_type": "stream",
          "name": "stdout",
          "text": [
            "Mounted at /content/drive\n"
          ]
        }
      ]
    },
    {
      "cell_type": "code",
      "source": [
        "from dotenv import load_dotenv\n",
        "\n",
        "load_dotenv('/content/drive/MyDrive/ColabNotebooks/langchain.env')"
      ],
      "metadata": {
        "colab": {
          "base_uri": "https://localhost:8080/"
        },
        "id": "UUZJ1gQ0pXFb",
        "outputId": "b8ea0c84-ff00-41b9-8f12-9d259bb9584d"
      },
      "execution_count": null,
      "outputs": [
        {
          "output_type": "execute_result",
          "data": {
            "text/plain": [
              "True"
            ]
          },
          "metadata": {},
          "execution_count": 3
        }
      ]
    },
    {
      "cell_type": "code",
      "source": [
        "import requests\n",
        "from newspaper import Article\n",
        "\n",
        "headers = {\n",
        "    'User-Agent': 'Mozilla/5.0 (Windows NT 10.0; Win64; x64) AppleWebKit/537.36 (KHTML, like Gecko) Chrome/89.0.4389.82 Safari/537.36'\n",
        "}\n",
        "\n",
        "article_url = \"https://www.cnn.com/2025/06/04/asia/lee-jae-myung-profile-south-korea-intl-hnk\"\n",
        "\n",
        "session = requests.Session()\n",
        "\n",
        "try:\n",
        "    response = session.get(article_url, headers=headers, timeout=10)\n",
        "\n",
        "    if response.status_code == 200:\n",
        "        article = Article(article_url)\n",
        "        article.download()\n",
        "        article.parse()\n",
        "\n",
        "        print(f\"Title: {article.title}\")\n",
        "        print(f\"Text: {article.text}\")\n",
        "\n",
        "    else:\n",
        "        print(f\"Failed to fetch article at {article_url}\")\n",
        "except Exception as e:\n",
        "    print(f\"Error occurred while fetching article at {article_url}: {e}\")"
      ],
      "metadata": {
        "colab": {
          "base_uri": "https://localhost:8080/"
        },
        "id": "DLkuz2bexqb5",
        "outputId": "737d5b54-ea7f-4ca9-ff20-72da510819fe"
      },
      "execution_count": null,
      "outputs": [
        {
          "output_type": "stream",
          "name": "stdout",
          "text": [
            "Title: Who is Lee Jae-myung, South Korea’s new president tasked with Trump’s tariff war negotiations\n",
            "Text: Seoul, South Korea CNN —\n",
            "\n",
            "At age 14 he was an impoverished factory worker. On Wednesday, he became the leader of one of Asia’s most powerful economies, a US ally and cultural juggernaut.\n",
            "\n",
            "But after sweeping to a decisive victory over conservative rival Kim Moon-soo on Tuesday, Lee Jae-myung faces a daunting task. South Korea remains deeply divided, Lee’s predecessor having declared martial law in a short-lived power grab in December, leaving many voters anxious about the state of their democracy.\n",
            "\n",
            "Six months of ensuing political turmoil entrenched existing rifts, with protests – both for and against former President Yook Suk Yeol and his People Power Party – filling the streets of the capital Seoul.\n",
            "\n",
            "Choppy international conditions have compounded domestic uncertainty. US President Donald Trump’s global tariffs have hit South Korea’s trade-reliant economy hard, with no permanent leader at the helm to steer negotiations with Washington.\n",
            "\n",
            "Lee’s election – after a revolving door of interim leaders over the past half-year – might finally offer the country some much-needed stability, said Cho Hee-kyoung, a law professor at Hongik University in Seoul.\n",
            "\n",
            "“We didn’t even have someone who could engage with Trump on the tariff war, and for an export-driven economy, that’s a serious problem,” Cho said. And, she added, the election – which saw the highest voter turnout since 1997 – represented a stinging public rebuke to the People Power Party.\n",
            "\n",
            "“For many people, I think this election was about holding those responsible for bringing chaos to the country accountable,” she said.\n",
            "\n",
            "One voter, Kim Yong-gung, told CNN he was so happy with Lee’s victory he felt like he was flying. He had driven two hours from his home to the capital on the night of martial law, unsure if he would return safely; South Korea has had its share of bloody crackdowns in its authoritarian past before it became a democracy.\n",
            "\n",
            "“So, I called my wife and told her to tell my kids that I am going to (the National Assembly) for the sake of my grandchild,” he said. “To make a better world for their generation, we need to stop the martial law, I can’t just ignore it and sleep.”\n",
            "\n",
            "But it remains to be seen whether Lee, 60, will be able to heal the political divides – especially as he comes with his own baggage, caught up in various legal challenges, facing allegations of corruption and abuse of power.\n",
            "\n",
            "It’s not clear what will happen to his ongoing criminal trials; sitting presidents are normally immune from prosecution, but there’s disagreement on whether that applies to cases that begin before they take office.\n",
            "\n",
            "At his inauguration on Wednesday, however, Lee sought to cast himself as a bringer of unity and a fresh start to the nation of more than 50 million people.\n",
            "\n",
            "“It is time to replace hatred and confrontation with coexistence, reconciliation, and solidarity – to open an era of national happiness, of dreams and hope,” he said in a speech. “I will answer the earnest call to build a completely new nation.”\n",
            "\n",
            "People cheer as they watch the inauguration ceremony of South Korea's President Lee Jae-myung outside the National Assembly in Seoul on June 4, 2025. Pedro Pardo/AFP/Getty Images\n",
            "\n",
            "From rags to riches\n",
            "\n",
            "Lee’s spectacular rise is well documented.\n",
            "\n",
            "Born in the mid-1960s, he was the fifth of seven children in a poor family from Andong, a riverside city southeast of Seoul. His father worked as a market cleaner while his mother was a fee collector at public bathrooms, according to his office and biographies that include excerpts from Lee’s own diaries.\n",
            "\n",
            "With civil war-ravaged South Korea in the early throes of a rapid industrialization that would transform it into a manufacturing powerhouse, Lee began working in factories as a teenager – from jewelry plants to refrigerator assembly lines. While working at a factory making baseball gloves, he permanently injured his left arm.\n",
            "\n",
            "In his diary, Lee would write about his envy of students he saw wearing school uniforms and those who had enough to eat.\n",
            "\n",
            "Despite his humble beginnings, he eventually passed his school exams and earned a full scholarship to study law at Chung-Ang University, one of Seoul’s top private universities.\n",
            "\n",
            "From there, Lee became a human rights lawyer, eventually entering politics in 2010 as the mayor of Seongnam city, just outside Seoul, representing the liberal Democratic Party. That led to another, more significant, stint from 2018 as governor of Gyeonggi province, the country’s most populous, which surrounds the capital.\n",
            "\n",
            "By then, he was eyeing the presidency – and left the governorship to run in the 2022 election, losing to Yoon by less than one percentage point.\n",
            "\n",
            "Lee became a lawmaker after that, surviving an assassination attempt in January 2024 when a man stabbed him in the neck during a public event in the southern city of Busan, in what his party denounced as an “act of political terror.”\n",
            "\n",
            "Later that year came Yoon’s ill-fated power grab. Lee again made headlines as one of the lawmakers who rushed to the legislature and pushed past soldiers to hold an emergency vote to lift martial law. He livestreamed himself jumping a fence to enter the building, in a viral video viewed tens of millions of times.\n",
            "\n",
            "Despite his growing popularity, Lee has been viewed with suspicion by many opponents because of his criminal trials – including over alleged bribery and charges related to a property development scandal.\n",
            "\n",
            "Separately, he was convicted of violating election law by knowingly making a false statement during a debate in the 2022 presidential campaign. The case has been sent to an appeals court.\n",
            "\n",
            "Lee denies all the charges against him. Speaking to CNN in December, he claimed he had been indicted on various charges “without any evidence or basis,” and that the allegations are politically motivated.\n",
            "\n",
            "What a Lee presidency might look like\n",
            "\n",
            "Yoon’s martial law decree had been in part fueled by his frustration over a months-long political stalemate, with Lee’s Democratic Party blocking the president from moving forward with many of his campaign promises and policies.\n",
            "\n",
            "Now, the Democratic Party controls both the parliament and the presidency – which could see “a return to normal politics,” said Celeste Arrington, Korea Foundation associate professor of political science and international affairs at George Washington University in the US capital.\n",
            "\n",
            "“It might be easier to push through policies than it had been under impeached President Yoon,” she added.\n",
            "\n",
            "And Lee has a lot to do, right away – including addressing a sluggish economy and getting involved in the US-South Korea trade talks.\n",
            "\n",
            "“I will immediately activate an emergency economic response task force team to restore people’s livelihood and revive the economy,” he said during his inauguration speech on Wednesday. He added that he would “turn the global economic and security crisis into an opportunity to maximize our national interest,” and strengthen trilateral cooperation with the US and Japan.\n",
            "\n",
            "Arrington added that Lee clearly sees the US-South Korea alliance as the “backbone” of the country’s national security – but he will have to balance that against relations with China. The US rival is also South Korea’s largest trading partner.\n",
            "\n",
            "Yoon took a famously hard line on North Korea, and relations have plummeted. In contrast, Lee hails from a political party that has historically taken a more conciliatory approach to South Korea’s autocratic neighbor.\n",
            "\n",
            "Lee reiterated the long-standing goal of peace on the Korean Peninsula, vowing to “respond firmly to North Korea’s nuclear threats while also keeping communication channels open.”\n",
            "\n",
            "But above all, Lee emphasized the importance of rebuilding public trust, badly damaged by the martial law crisis – and punishing those responsible.\n",
            "\n",
            "“I will rebuild everything that was destroyed by the insurrection and create a society that continues to grow and develop,” he said on Wednesday. “An insurrection that uses the military’s power, to seize the people’s sovereignty, must never happen again.”\n"
          ]
        }
      ]
    },
    {
      "cell_type": "code",
      "source": [
        "from langchain_openai import ChatOpenAI\n",
        "\n",
        "# load the model\n",
        "chat = ChatOpenAI(model_name=\"gpt-4o-mini\", temperature=0)"
      ],
      "metadata": {
        "id": "P45AVr0y2_DH"
      },
      "execution_count": null,
      "outputs": []
    },
    {
      "cell_type": "code",
      "source": [
        "from langchain_core.messages import HumanMessage, SystemMessage\n",
        "\n",
        "# we get the article data from the scraping part\n",
        "article_title = article.title\n",
        "article_text = article.text\n",
        "\n",
        "\n",
        "# prepare template for prompt\n",
        "template = \"\"\"You are an advanced AI assistant that summarizes online articles into bulleted lists in Spanish.\n",
        "\n",
        "Here's the article you need to summarize.\n",
        "\n",
        "==================\n",
        "Title: {article_title}\n",
        "\n",
        "{article_text}\n",
        "==================\n",
        "\n",
        "Now, provide a summarized version of the article in a bulleted list format.\n",
        "\"\"\"\n",
        "\n",
        "# format prompt\n",
        "prompt = template.format(article_title=article.title, article_text=article.text)\n",
        "\n",
        "# generate summary\n",
        "summary = chat([HumanMessage(content=prompt)])\n",
        "print(summary.content)"
      ],
      "metadata": {
        "colab": {
          "base_uri": "https://localhost:8080/"
        },
        "id": "ieKnaS_Z284p",
        "outputId": "e36c4166-7704-489b-d3f9-05f075f75485"
      },
      "execution_count": null,
      "outputs": [
        {
          "output_type": "stream",
          "name": "stdout",
          "text": [
            "- **Título**: Lee Jae-myung, nuevo presidente de Corea del Sur, enfrenta negociaciones en la guerra de aranceles de Trump.\n",
            "  \n",
            "- **Contexto**:\n",
            "  - Lee Jae-myung, de 60 años, fue elegido presidente tras una victoria decisiva sobre Kim Moon-soo.\n",
            "  - Corea del Sur está profundamente dividida tras la declaración de ley marcial de su predecesor, Yook Suk Yeol, en diciembre.\n",
            "  - La inestabilidad política y las protestas han marcado los últimos seis meses.\n",
            "\n",
            "- **Desafíos**:\n",
            "  - La economía de Corea del Sur, dependiente del comercio, ha sido afectada por los aranceles globales de Donald Trump.\n",
            "  - Lee debe abordar la incertidumbre interna y las divisiones políticas.\n",
            "\n",
            "- **Elección y apoyo popular**:\n",
            "  - La elección tuvo la mayor participación electoral desde 1997, reflejando un rechazo al Partido del Poder del Pueblo.\n",
            "  - Los votantes esperan que Lee rinda cuentas a quienes causaron el caos político.\n",
            "\n",
            "- **Trayectoria personal**:\n",
            "  - Nació en una familia pobre y trabajó en fábricas desde joven.\n",
            "  - Se convirtió en abogado de derechos humanos y luego en político, siendo alcalde de Seongnam y gobernador de Gyeonggi.\n",
            "  - Superó un intento de asesinato en 2024 y fue clave en la votación para levantar la ley marcial.\n",
            "\n",
            "- **Controversias legales**:\n",
            "  - Enfrenta varios juicios por corrupción y abuso de poder, aunque niega las acusaciones.\n",
            "  - La inmunidad presidencial podría complicar su situación legal.\n",
            "\n",
            "- **Visión para el país**:\n",
            "  - En su discurso inaugural, abogó por la unidad y la reconciliación.\n",
            "  - Prometió restaurar la economía y fortalecer la cooperación con EE. UU. y Japón.\n",
            "\n",
            "- **Relaciones internacionales**:\n",
            "  - Lee busca equilibrar la relación con EE. UU. y China, su mayor socio comercial.\n",
            "  - Promete un enfoque conciliador hacia Corea del Norte, manteniendo canales de comunicación abiertos.\n",
            "\n",
            "- **Compromiso con la confianza pública**:\n",
            "  - Enfatizó la necesidad de reconstruir la confianza pública y castigar a los responsables de la crisis de la ley marcial.\n"
          ]
        }
      ]
    }
  ]
}