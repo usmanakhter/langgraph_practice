{
  "nbformat": 4,
  "nbformat_minor": 0,
  "metadata": {
    "colab": {
      "provenance": [],
      "toc_visible": true,
      "authorship_tag": "ABX9TyP5Zt83PYXtuM7f2P5TdKbh",
      "include_colab_link": true
    },
    "kernelspec": {
      "name": "python3",
      "display_name": "Python 3"
    },
    "language_info": {
      "name": "python"
    }
  },
  "cells": [
    {
      "cell_type": "markdown",
      "metadata": {
        "id": "view-in-github",
        "colab_type": "text"
      },
      "source": [
        "<a href=\"https://colab.research.google.com/github/usmanakhter/langgraph_practice/blob/main/langfuse_testing.ipynb\" target=\"_parent\"><img src=\"https://colab.research.google.com/assets/colab-badge.svg\" alt=\"Open In Colab\"/></a>"
      ]
    },
    {
      "cell_type": "code",
      "source": [
        "# %pip install -qU langchain-openai\n",
        "# %pip install -qU langchain-core\n",
        "# %pip install -qU langfuse\n",
        "# %pip install -qU dotenv"
      ],
      "metadata": {
        "id": "O5QpqNz80rTG"
      },
      "execution_count": null,
      "outputs": []
    },
    {
      "cell_type": "code",
      "source": [
        "%pip show langfuse"
      ],
      "metadata": {
        "colab": {
          "base_uri": "https://localhost:8080/"
        },
        "id": "E54NmxG31883",
        "outputId": "20d34268-d483-4e25-9f6d-d37ad673e046"
      },
      "execution_count": 1,
      "outputs": [
        {
          "output_type": "stream",
          "name": "stdout",
          "text": [
            "Name: langfuse\n",
            "Version: 3.1.3\n",
            "Summary: A client library for accessing langfuse\n",
            "Home-page: \n",
            "Author: langfuse\n",
            "Author-email: developers@langfuse.com\n",
            "License: MIT\n",
            "Location: /usr/local/lib/python3.11/dist-packages\n",
            "Requires: backoff, httpx, opentelemetry-api, opentelemetry-exporter-otlp, opentelemetry-sdk, packaging, pydantic, requests, wrapt\n",
            "Required-by: \n"
          ]
        }
      ]
    },
    {
      "cell_type": "code",
      "source": [
        "# prompt: mount my google drive\n",
        "\n",
        "from google.colab import drive\n",
        "drive.mount('/content/drive')"
      ],
      "metadata": {
        "colab": {
          "base_uri": "https://localhost:8080/"
        },
        "id": "1KOgtm7qkTlb",
        "outputId": "dfe6d1f6-fcf2-481c-fdde-2c0ad79da443"
      },
      "execution_count": 9,
      "outputs": [
        {
          "output_type": "stream",
          "name": "stdout",
          "text": [
            "Drive already mounted at /content/drive; to attempt to forcibly remount, call drive.mount(\"/content/drive\", force_remount=True).\n"
          ]
        }
      ]
    },
    {
      "cell_type": "code",
      "source": [
        "from dotenv import load_dotenv\n",
        "\n",
        "load_dotenv('/content/drive/MyDrive/ColabNotebooks/langchain.env')"
      ],
      "metadata": {
        "colab": {
          "base_uri": "https://localhost:8080/"
        },
        "id": "UUZJ1gQ0pXFb",
        "outputId": "d426bf3a-3a85-498c-fd0a-9faa3cce1ea3"
      },
      "execution_count": 10,
      "outputs": [
        {
          "output_type": "execute_result",
          "data": {
            "text/plain": [
              "True"
            ]
          },
          "metadata": {},
          "execution_count": 10
        }
      ]
    },
    {
      "cell_type": "code",
      "execution_count": 13,
      "metadata": {
        "id": "1yeaIgubrte0"
      },
      "outputs": [],
      "source": [
        "from langfuse.langchain import CallbackHandler\n",
        "\n",
        "from langchain_openai import ChatOpenAI\n",
        "from langchain_core.prompts import ChatPromptTemplate\n",
        "\n",
        "langfuse_handler = CallbackHandler()\n",
        "\n",
        "llm = ChatOpenAI(model_name=\"gpt-4o\")\n",
        "prompt = ChatPromptTemplate.from_template(\"Tell me a joke about {topic}\")\n",
        "chain = prompt | llm\n",
        "\n",
        "response = chain.invoke({\"topic\": \"cats\"}, config={\"callbacks\": [langfuse_handler]})"
      ]
    },
    {
      "cell_type": "code",
      "source": [
        "#confirmed I see these traces in my langfuse dashboard"
      ],
      "metadata": {
        "id": "bjm2poVU391B"
      },
      "execution_count": null,
      "outputs": []
    }
  ]
}