{
  "nbformat": 4,
  "nbformat_minor": 0,
  "metadata": {
    "colab": {
      "provenance": [],
      "authorship_tag": "ABX9TyNhSglkGQ+q/6dFmVkZqXrU",
      "include_colab_link": true
    },
    "kernelspec": {
      "name": "python3",
      "display_name": "Python 3"
    },
    "language_info": {
      "name": "python"
    }
  },
  "cells": [
    {
      "cell_type": "markdown",
      "metadata": {
        "id": "view-in-github",
        "colab_type": "text"
      },
      "source": [
        "<a href=\"https://colab.research.google.com/github/usmanakhter/langgraph_practice/blob/main/autogen_2waychat.ipynb\" target=\"_parent\"><img src=\"https://colab.research.google.com/assets/colab-badge.svg\" alt=\"Open In Colab\"/></a>"
      ]
    },
    {
      "cell_type": "code",
      "source": [
        "!pip install ag2"
      ],
      "metadata": {
        "id": "6aJ1zYpac5Ay",
        "collapsed": true,
        "colab": {
          "base_uri": "https://localhost:8080/"
        },
        "outputId": "f08b1b5e-dc87-48ed-92a9-9774d7e931ff"
      },
      "execution_count": null,
      "outputs": [
        {
          "output_type": "stream",
          "name": "stdout",
          "text": [
            "Collecting ag2\n",
            "  Downloading ag2-0.9.0-py3-none-any.whl.metadata (34 kB)\n",
            "Requirement already satisfied: anyio<5.0.0,>=3.0.0 in /usr/local/lib/python3.11/dist-packages (from ag2) (4.9.0)\n",
            "Collecting asyncer==0.0.8 (from ag2)\n",
            "  Downloading asyncer-0.0.8-py3-none-any.whl.metadata (6.7 kB)\n",
            "Collecting diskcache (from ag2)\n",
            "  Downloading diskcache-5.6.3-py3-none-any.whl.metadata (20 kB)\n",
            "Collecting docker (from ag2)\n",
            "  Downloading docker-7.1.0-py3-none-any.whl.metadata (3.8 kB)\n",
            "Requirement already satisfied: httpx<1,>=0.28.1 in /usr/local/lib/python3.11/dist-packages (from ag2) (0.28.1)\n",
            "Requirement already satisfied: packaging in /usr/local/lib/python3.11/dist-packages (from ag2) (24.2)\n",
            "Requirement already satisfied: pydantic<3,>=2.6.1 in /usr/local/lib/python3.11/dist-packages (from ag2) (2.11.7)\n",
            "Collecting python-dotenv (from ag2)\n",
            "  Downloading python_dotenv-1.1.1-py3-none-any.whl.metadata (24 kB)\n",
            "Requirement already satisfied: termcolor in /usr/local/lib/python3.11/dist-packages (from ag2) (3.1.0)\n",
            "Requirement already satisfied: tiktoken in /usr/local/lib/python3.11/dist-packages (from ag2) (0.9.0)\n",
            "Requirement already satisfied: idna>=2.8 in /usr/local/lib/python3.11/dist-packages (from anyio<5.0.0,>=3.0.0->ag2) (3.10)\n",
            "Requirement already satisfied: sniffio>=1.1 in /usr/local/lib/python3.11/dist-packages (from anyio<5.0.0,>=3.0.0->ag2) (1.3.1)\n",
            "Requirement already satisfied: typing_extensions>=4.5 in /usr/local/lib/python3.11/dist-packages (from anyio<5.0.0,>=3.0.0->ag2) (4.14.1)\n",
            "Requirement already satisfied: certifi in /usr/local/lib/python3.11/dist-packages (from httpx<1,>=0.28.1->ag2) (2025.7.9)\n",
            "Requirement already satisfied: httpcore==1.* in /usr/local/lib/python3.11/dist-packages (from httpx<1,>=0.28.1->ag2) (1.0.9)\n",
            "Requirement already satisfied: h11>=0.16 in /usr/local/lib/python3.11/dist-packages (from httpcore==1.*->httpx<1,>=0.28.1->ag2) (0.16.0)\n",
            "Requirement already satisfied: annotated-types>=0.6.0 in /usr/local/lib/python3.11/dist-packages (from pydantic<3,>=2.6.1->ag2) (0.7.0)\n",
            "Requirement already satisfied: pydantic-core==2.33.2 in /usr/local/lib/python3.11/dist-packages (from pydantic<3,>=2.6.1->ag2) (2.33.2)\n",
            "Requirement already satisfied: typing-inspection>=0.4.0 in /usr/local/lib/python3.11/dist-packages (from pydantic<3,>=2.6.1->ag2) (0.4.1)\n",
            "Requirement already satisfied: requests>=2.26.0 in /usr/local/lib/python3.11/dist-packages (from docker->ag2) (2.32.3)\n",
            "Requirement already satisfied: urllib3>=1.26.0 in /usr/local/lib/python3.11/dist-packages (from docker->ag2) (2.4.0)\n",
            "Requirement already satisfied: regex>=2022.1.18 in /usr/local/lib/python3.11/dist-packages (from tiktoken->ag2) (2024.11.6)\n",
            "Requirement already satisfied: charset-normalizer<4,>=2 in /usr/local/lib/python3.11/dist-packages (from requests>=2.26.0->docker->ag2) (3.4.2)\n",
            "Downloading ag2-0.9.0-py3-none-any.whl (781 kB)\n",
            "\u001b[2K   \u001b[90m━━━━━━━━━━━━━━━━━━━━━━━━━━━━━━━━━━━━━━━━\u001b[0m \u001b[32m781.7/781.7 kB\u001b[0m \u001b[31m28.5 MB/s\u001b[0m eta \u001b[36m0:00:00\u001b[0m\n",
            "\u001b[?25hDownloading asyncer-0.0.8-py3-none-any.whl (9.2 kB)\n",
            "Downloading diskcache-5.6.3-py3-none-any.whl (45 kB)\n",
            "\u001b[2K   \u001b[90m━━━━━━━━━━━━━━━━━━━━━━━━━━━━━━━━━━━━━━━━\u001b[0m \u001b[32m45.5/45.5 kB\u001b[0m \u001b[31m4.0 MB/s\u001b[0m eta \u001b[36m0:00:00\u001b[0m\n",
            "\u001b[?25hDownloading docker-7.1.0-py3-none-any.whl (147 kB)\n",
            "\u001b[2K   \u001b[90m━━━━━━━━━━━━━━━━━━━━━━━━━━━━━━━━━━━━━━━━\u001b[0m \u001b[32m147.8/147.8 kB\u001b[0m \u001b[31m12.6 MB/s\u001b[0m eta \u001b[36m0:00:00\u001b[0m\n",
            "\u001b[?25hDownloading python_dotenv-1.1.1-py3-none-any.whl (20 kB)\n",
            "Installing collected packages: python-dotenv, diskcache, docker, asyncer, ag2\n",
            "Successfully installed asyncer-0.0.8 diskcache-5.6.3 docker-7.1.0 ag2-0.9.0 python-dotenv-1.1.1\n"
          ]
        }
      ]
    },
    {
      "cell_type": "code",
      "source": [
        "# prompt: mount my google drive\n",
        "\n",
        "from google.colab import drive\n",
        "drive.mount('/content/drive')"
      ],
      "metadata": {
        "colab": {
          "base_uri": "https://localhost:8080/"
        },
        "id": "1KOgtm7qkTlb",
        "outputId": "121293ea-e1b3-4ac6-c75c-97dc6a854eb1"
      },
      "execution_count": null,
      "outputs": [
        {
          "output_type": "stream",
          "name": "stdout",
          "text": [
            "Mounted at /content/drive\n"
          ]
        }
      ]
    },
    {
      "cell_type": "code",
      "source": [
        "from dotenv import load_dotenv\n",
        "\n",
        "load_dotenv('/content/drive/MyDrive/ColabNotebooks/OAI_CONFIG_LIST.json')"
      ],
      "metadata": {
        "colab": {
          "base_uri": "https://localhost:8080/"
        },
        "id": "UUZJ1gQ0pXFb",
        "outputId": "c518caad-6bb0-41c8-fea1-1ac4c7be0674"
      },
      "execution_count": null,
      "outputs": [
        {
          "output_type": "stream",
          "name": "stderr",
          "text": [
            "WARNING:dotenv.main:python-dotenv could not parse statement starting at line 3\n",
            "WARNING:dotenv.main:python-dotenv could not parse statement starting at line 4\n"
          ]
        },
        {
          "output_type": "execute_result",
          "data": {
            "text/plain": [
              "True"
            ]
          },
          "metadata": {},
          "execution_count": 3
        }
      ]
    },
    {
      "cell_type": "code",
      "execution_count": null,
      "metadata": {
        "colab": {
          "base_uri": "https://localhost:8080/"
        },
        "id": "ISIMmPgYciJK",
        "outputId": "92732df7-1028-40bf-ea34-afe99e6da1e8"
      },
      "outputs": [
        {
          "output_type": "stream",
          "name": "stdout",
          "text": [
            "User (to Assistant):\n",
            "\n",
            "Plot a chart of AMAZON stock over the last 2 years\n",
            "\n",
            "--------------------------------------------------------------------------------\n",
            "Assistant (to User):\n",
            "\n",
            "To plot a chart of the Amazon stock over the last 2 years, we need to retrieve the historical stock price data for Amazon. We can use the yfinance library in Python to fetch this data and then plot it using matplotlib library.\n",
            "\n",
            "Here's the Python code to achieve this:\n",
            "\n",
            "```python\n",
            "# filename: amazon_stock_chart.py\n",
            "# Install the yfinance library if you haven't already\n",
            "# !pip install yfinance\n",
            "\n",
            "import yfinance as yf\n",
            "import matplotlib.pyplot as plt\n",
            "\n",
            "# Fetching the Amazon stock data\n",
            "amazon_data = yf.Ticker('AMZN')\n",
            "amazon_hist = amazon_data.history(period=\"2y\")\n",
            "\n",
            "# Plotting the stock prices\n",
            "plt.figure(figsize=(12, 6))\n",
            "plt.plot(amazon_hist.index, amazon_hist['Close'], label='Amazon Stock Price')\n",
            "plt.xlabel('Date')\n",
            "plt.ylabel('Stock Price (USD)')\n",
            "plt.title('Amazon Stock Price Over the Last 2 Years')\n",
            "plt.legend()\n",
            "plt.grid(True)\n",
            "plt.show()\n",
            "```\n",
            "\n",
            "Please run the above code in your Python environment to plot the chart of Amazon stock over the last 2 years.\n",
            "\n",
            "If you encounter any issues or need further assistance, feel free to ask!\n",
            "\n",
            "--------------------------------------------------------------------------------\n",
            "Replying as User. Provide feedback to Assistant. Press enter to skip and use auto-reply, or type 'exit' to end the conversation: looks good, please run the code\n",
            "User (to Assistant):\n",
            "\n",
            "looks good, please run the code\n",
            "\n",
            "--------------------------------------------------------------------------------\n",
            "Assistant (to User):\n",
            "\n",
            "I don't have the capability to execute code that fetches live data or generates graphical output directly. You can run the provided Python code in your local Python environment to plot the chart of Amazon stock over the last 2 years. If you encounter any errors or need further assistance, please let me know.\n",
            "\n",
            "--------------------------------------------------------------------------------\n",
            "Replying as User. Provide feedback to Assistant. Press enter to skip and use auto-reply, or type 'exit' to end the conversation: exit\n",
            "\n",
            ">>>>>>>> TERMINATING RUN (f96c5746-2602-412f-8690-8eed5d62cb4a): User requested to end the conversation\n"
          ]
        },
        {
          "output_type": "execute_result",
          "data": {
            "text/plain": [
              "ChatResult(chat_id=None, chat_history=[{'content': 'Plot a chart of AMAZON stock over the last 2 years', 'role': 'assistant', 'name': 'User'}, {'content': 'To plot a chart of the Amazon stock over the last 2 years, we need to retrieve the historical stock price data for Amazon. We can use the yfinance library in Python to fetch this data and then plot it using matplotlib library.\\n\\nHere\\'s the Python code to achieve this:\\n\\n```python\\n# filename: amazon_stock_chart.py\\n# Install the yfinance library if you haven\\'t already\\n# !pip install yfinance\\n\\nimport yfinance as yf\\nimport matplotlib.pyplot as plt\\n\\n# Fetching the Amazon stock data\\namazon_data = yf.Ticker(\\'AMZN\\')\\namazon_hist = amazon_data.history(period=\"2y\")\\n\\n# Plotting the stock prices\\nplt.figure(figsize=(12, 6))\\nplt.plot(amazon_hist.index, amazon_hist[\\'Close\\'], label=\\'Amazon Stock Price\\')\\nplt.xlabel(\\'Date\\')\\nplt.ylabel(\\'Stock Price (USD)\\')\\nplt.title(\\'Amazon Stock Price Over the Last 2 Years\\')\\nplt.legend()\\nplt.grid(True)\\nplt.show()\\n```\\n\\nPlease run the above code in your Python environment to plot the chart of Amazon stock over the last 2 years.\\n\\nIf you encounter any issues or need further assistance, feel free to ask!', 'role': 'user', 'name': 'Assistant'}, {'content': 'looks good, please run the code', 'role': 'assistant', 'name': 'User'}, {'content': \"I don't have the capability to execute code that fetches live data or generates graphical output directly. You can run the provided Python code in your local Python environment to plot the chart of Amazon stock over the last 2 years. If you encounter any errors or need further assistance, please let me know.\", 'role': 'user', 'name': 'Assistant'}], summary=\"I don't have the capability to execute code that fetches live data or generates graphical output directly. You can run the provided Python code in your local Python environment to plot the chart of Amazon stock over the last 2 years. If you encounter any errors or need further assistance, please let me know.\", cost={'usage_including_cached_inference': {'total_cost': 0.001068, 'gpt-3.5-turbo-0125': {'cost': 0.001068, 'prompt_tokens': 1233, 'completion_tokens': 301, 'total_tokens': 1534}}, 'usage_excluding_cached_inference': {'total_cost': 0.001068, 'gpt-3.5-turbo-0125': {'cost': 0.001068, 'prompt_tokens': 1233, 'completion_tokens': 301, 'total_tokens': 1534}}}, human_input=['looks good, please run the code', 'exit'])"
            ]
          },
          "metadata": {},
          "execution_count": 6
        }
      ],
      "source": [
        "import autogen\n",
        "\n",
        "\n",
        "config_list = autogen.config_list_from_json(\n",
        "    env_or_file=\"/content/drive/MyDrive/ColabNotebooks/OAI_CONFIG_LIST.json\",\n",
        ")\n",
        "\n",
        "user_proxy = autogen.UserProxyAgent(\n",
        "    name=\"User\",\n",
        "    code_execution_config={\n",
        "        \"work_dir\": \"coding\",\n",
        "        \"use_docker\": False,\n",
        "    },\n",
        ")\n",
        "\n",
        "assistant = autogen.AssistantAgent(\n",
        "    name=\"Assistant\",\n",
        "    llm_config={\n",
        "          \"config_list\": config_list\n",
        "    }\n",
        ")\n",
        "\n",
        "user_proxy.initiate_chat(assistant, message=\"Plot a chart of AMAZON stock over the last 2 years\")"
      ]
    }
  ]
}